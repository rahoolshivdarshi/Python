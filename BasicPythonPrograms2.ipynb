{
 "cells": [
  {
   "cell_type": "markdown",
   "metadata": {},
   "source": [
    "Take values of length and breadth of a rectangle from user and check if it is square or rectangle."
   ]
  },
  {
   "cell_type": "code",
   "execution_count": 1,
   "metadata": {},
   "outputs": [
    {
     "name": "stdout",
     "output_type": "stream",
     "text": [
      "Enter length: 3.6\n",
      "Enter breadth: 4.2\n",
      "Rectangle\n"
     ]
    }
   ],
   "source": [
    "l = float(input(\"Enter length: \"))\n",
    "b = float(input(\"Enter breadth: \"))\n",
    "if l==b:\n",
    "    print(\"Square\") \n",
    "else:\n",
    "    print(\"Rectangle\")"
   ]
  },
  {
   "cell_type": "markdown",
   "metadata": {},
   "source": [
    "Take 2 variables with integer value and find and print whether variable is greater, smaller or both are equal by using short hand if...else method"
   ]
  },
  {
   "cell_type": "code",
   "execution_count": 2,
   "metadata": {},
   "outputs": [
    {
     "name": "stdout",
     "output_type": "stream",
     "text": [
      "Enter 1st no: 4\n",
      "Enter 2nd no: 8\n",
      "8 is greater\n"
     ]
    }
   ],
   "source": [
    "a = int(input(\"Enter 1st no: \"))\n",
    "b = int(input(\"Enter 2nd no: \"))\n",
    "print(a,\" is greater\") if a>b else (print(b, \"is greater\") if b>a else print(\"Both are equal\"))"
   ]
  },
  {
   "cell_type": "markdown",
   "metadata": {},
   "source": [
    "Take user input as integer value and print factorial of a no. using while loop"
   ]
  },
  {
   "cell_type": "code",
   "execution_count": 6,
   "metadata": {},
   "outputs": [
    {
     "name": "stdout",
     "output_type": "stream",
     "text": [
      "Enter a number: 5\n",
      "Factorial: 120\n"
     ]
    }
   ],
   "source": [
    "n = int(input(\"Enter a number: \"))\n",
    "f=1\n",
    "i=1\n",
    "while i<=n:\n",
    "    f = f*i\n",
    "    i += 1\n",
    "print(\"Factorial: {}\".format(f))"
   ]
  },
  {
   "cell_type": "markdown",
   "metadata": {},
   "source": [
    "Enter a no and calculate the sum of all number from 1 to given number using for loop"
   ]
  },
  {
   "cell_type": "code",
   "execution_count": 8,
   "metadata": {},
   "outputs": [
    {
     "name": "stdout",
     "output_type": "stream",
     "text": [
      "Enter a number: 20\n",
      "Sum:  210\n"
     ]
    }
   ],
   "source": [
    "s=0\n",
    "n = int(input(\"Enter a number: \"))\n",
    "for i in range(n):\n",
    "    s = s + (i+1)\n",
    "print(\"Sum: \",s)"
   ]
  },
  {
   "cell_type": "markdown",
   "metadata": {},
   "source": [
    "Take user input list and the list should contain all types of data. Print the list in ascending as well as in descending order."
   ]
  },
  {
   "cell_type": "code",
   "execution_count": 14,
   "metadata": {},
   "outputs": [
    {
     "name": "stdout",
     "output_type": "stream",
     "text": [
      "Enter no of elements: 4\n",
      "Enter value:True\n",
      "Enter value:Rahool\n",
      "Enter value:5\n",
      "Enter value:7,4\n",
      "['True', 'Rahool', '5', '7,4']\n",
      "['5', '7,4', 'Rahool', 'True']\n",
      "['True', 'Rahool', '7,4', '5']\n"
     ]
    }
   ],
   "source": [
    "l = []\n",
    "n = int(input(\"Enter no of elements: \"))\n",
    "for i in range(n):\n",
    "    a = input(\"Enter value:\")\n",
    "    l.append(a)\n",
    "print(l)\n",
    "l.sort()\n",
    "print(l)\n",
    "l.sort(reverse = True)\n",
    "print(l)"
   ]
  },
  {
   "cell_type": "markdown",
   "metadata": {},
   "source": [
    "Accept only numbers lower than 5 using list comprehension."
   ]
  },
  {
   "cell_type": "code",
   "execution_count": 22,
   "metadata": {},
   "outputs": [
    {
     "name": "stdout",
     "output_type": "stream",
     "text": [
      "[0, 1, 2, 3, 4]\n"
     ]
    }
   ],
   "source": [
    "l = []\n",
    "l = [x for x in range(20) if x<5]\n",
    "print(l)"
   ]
  }
 ],
 "metadata": {
  "kernelspec": {
   "display_name": "Python 3",
   "language": "python",
   "name": "python3"
  },
  "language_info": {
   "codemirror_mode": {
    "name": "ipython",
    "version": 3
   },
   "file_extension": ".py",
   "mimetype": "text/x-python",
   "name": "python",
   "nbconvert_exporter": "python",
   "pygments_lexer": "ipython3",
   "version": "3.8.5"
  }
 },
 "nbformat": 4,
 "nbformat_minor": 4
}
