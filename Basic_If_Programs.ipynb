{
 "cells": [
  {
   "cell_type": "markdown",
   "metadata": {},
   "source": [
    "**Python Program to Convert Kilometers to Miles**"
   ]
  },
  {
   "cell_type": "code",
   "execution_count": 4,
   "metadata": {},
   "outputs": [
    {
     "name": "stdout",
     "output_type": "stream",
     "text": [
      "Enter distance in Kilometers: 29\n",
      "Distance in miles: 18.02 miles\n"
     ]
    }
   ],
   "source": [
    "n = float(input(\"Enter distance in Kilometers: \"))\n",
    "print(\"Distance in miles: {0:.2f} miles\".format(n*0.621371))"
   ]
  },
  {
   "cell_type": "markdown",
   "metadata": {},
   "source": [
    "**Python Program to Convert Celsius To Fahrenheit**"
   ]
  },
  {
   "cell_type": "code",
   "execution_count": 5,
   "metadata": {},
   "outputs": [
    {
     "name": "stdout",
     "output_type": "stream",
     "text": [
      "Enter temperature in Celcius: 3\n",
      "Temperature in Fahrenheit: 37.40 F\n"
     ]
    }
   ],
   "source": [
    "c = float(input(\"Enter temperature in Celcius: \"))\n",
    "print(\"Temperature in Fahrenheit: {0:.2f} F\".format((9*c)/5 + 32))"
   ]
  },
  {
   "cell_type": "markdown",
   "metadata": {},
   "source": [
    "**Python Program to Check if a Number is Positive, Negative or 0**"
   ]
  },
  {
   "cell_type": "code",
   "execution_count": 6,
   "metadata": {},
   "outputs": [
    {
     "name": "stdout",
     "output_type": "stream",
     "text": [
      "Enter a number: 0\n",
      "Zero\n"
     ]
    }
   ],
   "source": [
    "n = float(input(\"Enter a number: \"))\n",
    "print(\"Positive\") if n>0 else print(\"Negative\") if n<0 else print(\"Zero\")"
   ]
  },
  {
   "cell_type": "markdown",
   "metadata": {},
   "source": [
    "**Python Program to Check if a Number is Odd or Even**"
   ]
  },
  {
   "cell_type": "code",
   "execution_count": 7,
   "metadata": {},
   "outputs": [
    {
     "name": "stdout",
     "output_type": "stream",
     "text": [
      "Enter a number: 2013\n",
      "Odd\n"
     ]
    }
   ],
   "source": [
    "n = int(input(\"Enter a number: \"))\n",
    "print(\"Even\") if (n%2==0) else print(\"Odd\")"
   ]
  },
  {
   "cell_type": "markdown",
   "metadata": {},
   "source": [
    "**Python Program to Check Leap Year**"
   ]
  },
  {
   "cell_type": "code",
   "execution_count": 8,
   "metadata": {},
   "outputs": [
    {
     "name": "stdout",
     "output_type": "stream",
     "text": [
      "Enter year: 2019\n",
      "Not a leap year\n"
     ]
    }
   ],
   "source": [
    "n = int(input(\"Enter year: \"))\n",
    "print(\"Leap Year\") if n%4==0 else print(\"Not a leap year\")"
   ]
  },
  {
   "cell_type": "markdown",
   "metadata": {},
   "source": [
    "**Python Program to Find the Largest Among Three Numbers**"
   ]
  },
  {
   "cell_type": "code",
   "execution_count": 9,
   "metadata": {},
   "outputs": [
    {
     "name": "stdout",
     "output_type": "stream",
     "text": [
      "Enter 3 nos\n",
      "3\n",
      "7\n",
      "4\n",
      "7\n"
     ]
    }
   ],
   "source": [
    "print(\"Enter 3 nos\")\n",
    "a = int(input())\n",
    "b = int(input())\n",
    "c = int(input())\n",
    "print(a) if (a>=b and a>=c) else print(b) if (b>=a and b>=c) else print(c)  "
   ]
  },
  {
   "cell_type": "markdown",
   "metadata": {},
   "source": [
    "**Write a Python Program to check if a number is prime or not**"
   ]
  },
  {
   "cell_type": "code",
   "execution_count": 10,
   "metadata": {},
   "outputs": [
    {
     "name": "stdout",
     "output_type": "stream",
     "text": [
      "Enter number: 4\n",
      "Not prime\n"
     ]
    }
   ],
   "source": [
    "n = int(input(\"Enter number: \"))\n",
    "c = 0\n",
    "for i in range(2,n-1):\n",
    "    if(n%i==0):\n",
    "        c+=1\n",
    "        break;\n",
    "print(\"Not prime\") if c!=0 else print(\"Prime\")"
   ]
  },
  {
   "cell_type": "markdown",
   "metadata": {},
   "source": [
    "**Python Program to Find Numbers Divisible by Another Number**"
   ]
  },
  {
   "cell_type": "code",
   "execution_count": 39,
   "metadata": {},
   "outputs": [
    {
     "name": "stdout",
     "output_type": "stream",
     "text": [
      "Enter no: 25\n",
      "25\n",
      "50\n",
      "75\n",
      "100\n"
     ]
    }
   ],
   "source": [
    "n = int(input(\"Enter no: \"))\n",
    "for i in range(1,101):\n",
    "    if i%n==0: print(i)  "
   ]
  },
  {
   "cell_type": "markdown",
   "metadata": {},
   "source": [
    "**Python Program to Make a Simple Calculator**"
   ]
  },
  {
   "cell_type": "code",
   "execution_count": 40,
   "metadata": {},
   "outputs": [
    {
     "name": "stdout",
     "output_type": "stream",
     "text": [
      "Enter 2 nos\n",
      "3\n",
      "6\n",
      "Enter operation\n",
      "/\n",
      "0.5\n"
     ]
    }
   ],
   "source": [
    "print(\"Enter 2 nos\")\n",
    "a = int(input())\n",
    "b = int(input())\n",
    "print(\"Enter operation\")\n",
    "c = input()\n",
    "if c=='+': print(a+b)\n",
    "if c=='-': print(a-b)\n",
    "if c=='*': print(a*b)\n",
    "if c=='/': print(a/b)"
   ]
  }
 ],
 "metadata": {
  "kernelspec": {
   "display_name": "Python 3",
   "language": "python",
   "name": "python3"
  },
  "language_info": {
   "codemirror_mode": {
    "name": "ipython",
    "version": 3
   },
   "file_extension": ".py",
   "mimetype": "text/x-python",
   "name": "python",
   "nbconvert_exporter": "python",
   "pygments_lexer": "ipython3",
   "version": "3.8.5"
  }
 },
 "nbformat": 4,
 "nbformat_minor": 4
}
