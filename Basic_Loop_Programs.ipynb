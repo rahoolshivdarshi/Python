{
 "cells": [
  {
   "cell_type": "markdown",
   "metadata": {},
   "source": [
    "**Python program to display all the prime numbers within an interval**"
   ]
  },
  {
   "cell_type": "code",
   "execution_count": 1,
   "metadata": {},
   "outputs": [
    {
     "name": "stdout",
     "output_type": "stream",
     "text": [
      "Enter range: \n",
      "2\n",
      "20\n",
      "2\n",
      "3\n",
      "5\n",
      "7\n",
      "11\n",
      "13\n",
      "17\n",
      "19\n"
     ]
    }
   ],
   "source": [
    "print(\"Enter range: \")\n",
    "a = int(input())\n",
    "b = int(input())\n",
    "for j in range(a,b+1):\n",
    "    c = 0\n",
    "    for i in range(2,j-1):\n",
    "        if(j%i==0):\n",
    "            c+=1\n",
    "            break;\n",
    "    if c==0:\n",
    "        print(j) "
   ]
  },
  {
   "cell_type": "markdown",
   "metadata": {},
   "source": [
    "**Python program to find the factorial of a number**"
   ]
  },
  {
   "cell_type": "code",
   "execution_count": 2,
   "metadata": {},
   "outputs": [
    {
     "name": "stdout",
     "output_type": "stream",
     "text": [
      "Enter a number: 5\n",
      "Factorial:  120\n"
     ]
    }
   ],
   "source": [
    "f=1\n",
    "n = int(input(\"Enter a number: \"))\n",
    "for i in range(1,n+1):\n",
    "    f*=i\n",
    "print(\"Factorial: \",f)"
   ]
  },
  {
   "cell_type": "markdown",
   "metadata": {},
   "source": [
    "**Python Program to Display the multiplication Table**"
   ]
  },
  {
   "cell_type": "code",
   "execution_count": 3,
   "metadata": {},
   "outputs": [
    {
     "name": "stdout",
     "output_type": "stream",
     "text": [
      "Enter number: 4\n",
      "4 * 1 = 4\n",
      "4 * 2 = 8\n",
      "4 * 3 = 12\n",
      "4 * 4 = 16\n",
      "4 * 5 = 20\n",
      "4 * 6 = 24\n",
      "4 * 7 = 28\n",
      "4 * 8 = 32\n",
      "4 * 9 = 36\n",
      "4 * 10 = 40\n"
     ]
    }
   ],
   "source": [
    "n = int(input(\"Enter number: \"))\n",
    "for i in range(1,11):\n",
    "    print(\"{} * {} = {}\".format(n,i,n*i))"
   ]
  },
  {
   "cell_type": "markdown",
   "metadata": {},
   "source": [
    "**Python Program to Print the Fibonacci sequence**"
   ]
  },
  {
   "cell_type": "code",
   "execution_count": 4,
   "metadata": {},
   "outputs": [
    {
     "name": "stdout",
     "output_type": "stream",
     "text": [
      "NO of terms:9\n",
      "0 1 1 2 3 5 8 13 21 "
     ]
    }
   ],
   "source": [
    "n = int(input(\"NO of terms:\"))\n",
    "a = 0\n",
    "b = 1\n",
    "i = 2\n",
    "print(a,b, end=\" \")\n",
    "while i<n:\n",
    "    c = a+b\n",
    "    print(c, end=\" \")\n",
    "    a = b\n",
    "    b = c\n",
    "    i+=1"
   ]
  },
  {
   "cell_type": "markdown",
   "metadata": {},
   "source": [
    "**Python Program to Check Armstrong Number (for 3 digits)**"
   ]
  },
  {
   "cell_type": "code",
   "execution_count": 5,
   "metadata": {},
   "outputs": [
    {
     "name": "stdout",
     "output_type": "stream",
     "text": [
      "Enter a number: 171\n",
      "Not armstrong\n"
     ]
    }
   ],
   "source": [
    "n = int(input(\"Enter a number: \"))\n",
    "m = n\n",
    "s = 0\n",
    "while n>0:\n",
    "    r = n%10\n",
    "    s = s+r**3\n",
    "    n = n//10\n",
    "print(\"Armstrong\") if m==s else print(\"Not armstrong\")"
   ]
  },
  {
   "cell_type": "markdown",
   "metadata": {},
   "source": [
    "**Find the sum of the cube of each digit**"
   ]
  },
  {
   "cell_type": "code",
   "execution_count": 6,
   "metadata": {},
   "outputs": [
    {
     "name": "stdout",
     "output_type": "stream",
     "text": [
      "Enter a number: 534\n",
      "Sum of the cube of each digit: 216\n"
     ]
    }
   ],
   "source": [
    "n = int(input(\"Enter a number: \"))\n",
    "m = n\n",
    "s = 0\n",
    "while n>0:\n",
    "    r = n%10\n",
    "    s = s+r**3\n",
    "    n = n//10\n",
    "print(\"Sum of the cube of each digit:\",s)"
   ]
  },
  {
   "cell_type": "markdown",
   "metadata": {},
   "source": [
    "**Python Program to Find Armstrong Number in an Interval**"
   ]
  },
  {
   "cell_type": "code",
   "execution_count": 7,
   "metadata": {},
   "outputs": [
    {
     "name": "stdout",
     "output_type": "stream",
     "text": [
      "Enter range: \n",
      "100\n",
      "400\n",
      "153\n",
      "370\n",
      "371\n"
     ]
    }
   ],
   "source": [
    "print(\"Enter range: \")\n",
    "a = int(input())\n",
    "b = int(input())\n",
    "for j in range(a,b+1):\n",
    "    m = j\n",
    "    s = 0\n",
    "    while m>0:\n",
    "        r = m%10\n",
    "        s = s+r**3\n",
    "        m = m//10\n",
    "    if s==j:\n",
    "        print(j)"
   ]
  },
  {
   "cell_type": "markdown",
   "metadata": {},
   "source": [
    "**Python Program to Find the Sum of Natural Numbers**"
   ]
  },
  {
   "cell_type": "code",
   "execution_count": 9,
   "metadata": {},
   "outputs": [
    {
     "name": "stdout",
     "output_type": "stream",
     "text": [
      "Enter no: 9\n",
      "45\n"
     ]
    }
   ],
   "source": [
    "s = 0\n",
    "n = int(input(\"Enter no: \"))\n",
    "for i in range(1,n+1):\n",
    "    s = s+i\n",
    "print(s)"
   ]
  }
 ],
 "metadata": {
  "kernelspec": {
   "display_name": "Python 3",
   "language": "python",
   "name": "python3"
  },
  "language_info": {
   "codemirror_mode": {
    "name": "ipython",
    "version": 3
   },
   "file_extension": ".py",
   "mimetype": "text/x-python",
   "name": "python",
   "nbconvert_exporter": "python",
   "pygments_lexer": "ipython3",
   "version": "3.8.5"
  }
 },
 "nbformat": 4,
 "nbformat_minor": 4
}
