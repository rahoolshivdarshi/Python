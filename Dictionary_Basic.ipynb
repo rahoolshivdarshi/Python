{
 "cells": [
  {
   "cell_type": "code",
   "execution_count": 7,
   "metadata": {},
   "outputs": [
    {
     "name": "stdout",
     "output_type": "stream",
     "text": [
      "{1: 'One', 2: 'Two', 3: 'Three', 4: 'Four', 5: 'Five', 6: 'Six', 7: 'Seven', 8: 'Eight', 9: 'Nine'}\n"
     ]
    }
   ],
   "source": [
    "d={}\n",
    "d1 = {1:\"One\", 2:\"Two\", 3:\"Three\"}\n",
    "d2 = {4:\"Four\", 5:\"Five\", 6:\"Six\"}\n",
    "d3 = {7:\"Seven\", 8:\"Eight\", 9:\"Nine\"}\n",
    "d.update(d1.items())\n",
    "d.update(d2.items())\n",
    "d.update(d3.items())\n",
    "print(d)"
   ]
  },
  {
   "cell_type": "markdown",
   "metadata": {},
   "source": [
    "**Qno2-Create a dictionary of address using \"name\", \"address\", \"street\", \"state\" and print all the values using string formater**"
   ]
  },
  {
   "cell_type": "code",
   "execution_count": 14,
   "metadata": {},
   "outputs": [
    {
     "name": "stdout",
     "output_type": "stream",
     "text": [
      "Name:Rahool \n",
      "Address:Malajkhand \n",
      "Street: \n",
      "State:MP\n",
      "\n"
     ]
    }
   ],
   "source": [
    "d = {\"name\":\"Rahool\", \"address\":\"Malajkhand\", \"street\":\"\", \"state\":\"MP\"}\n",
    "print(\"Name:{} \\nAddress:{} \\nStreet:{} \\nState:{}\\n\".format(d[\"name\"], d[\"address\"], d[\"street\"], d[\"state\"]))"
   ]
  },
  {
   "cell_type": "code",
   "execution_count": 19,
   "metadata": {},
   "outputs": [
    {
     "name": "stdout",
     "output_type": "stream",
     "text": [
      "name: Rahool\n",
      "address: Malajkhand\n",
      "street: \n",
      "state: MP\n"
     ]
    }
   ],
   "source": [
    "for i,j in d.items():\n",
    "    print(f\"{i}: {j}\")"
   ]
  },
  {
   "cell_type": "markdown",
   "metadata": {},
   "source": [
    "**Qno3- Write a program to multiply all elements of dictionary**"
   ]
  },
  {
   "cell_type": "code",
   "execution_count": 20,
   "metadata": {},
   "outputs": [
    {
     "name": "stdout",
     "output_type": "stream",
     "text": [
      "1200\n"
     ]
    }
   ],
   "source": [
    "x = 1\n",
    "FruitDict = {'Apple': 10, 'banana': 5,'orange':4,'Guava':6} \n",
    "for i in FruitDict.values():\n",
    "    x = x*i\n",
    "print(x)"
   ]
  },
  {
   "cell_type": "markdown",
   "metadata": {},
   "source": [
    "**Qno4- Create a user input dictionary having two key:value pair and check whether one of the key given by you is pesent in the dictionary**"
   ]
  },
  {
   "cell_type": "code",
   "execution_count": 7,
   "metadata": {},
   "outputs": [
    {
     "name": "stdout",
     "output_type": "stream",
     "text": [
      "Enter 3 key-value\n",
      "Key:1\n",
      "Value:a\n",
      "Key:2\n",
      "Value:b\n",
      "Key:3\n",
      "Value:c\n",
      "Enter key to search:2\n",
      "b\n"
     ]
    }
   ],
   "source": [
    "d = {}\n",
    "print(\"Enter 3 key-value\")\n",
    "for i in range(3):\n",
    "    k = input(\"Key:\")\n",
    "    v = input(\"Value:\")\n",
    "    d[k]=v\n",
    "x = input(\"Enter key to search:\")\n",
    "if x in d.keys():\n",
    "    print(d[x])"
   ]
  },
  {
   "cell_type": "markdown",
   "metadata": {},
   "source": [
    "**Qno-Write a Python program to sort a list of tuples using Lambda.**"
   ]
  },
  {
   "cell_type": "code",
   "execution_count": 10,
   "metadata": {},
   "outputs": [
    {
     "name": "stdout",
     "output_type": "stream",
     "text": [
      "after sorting:  [('Sst', 82), ('Eng', 88), ('Sci', 90), ('Maths', 97)]\n"
     ]
    }
   ],
   "source": [
    "y=[('Eng', 88), ('Sci', 90), ('Maths', 97), ('Sst', 82)]\n",
    "y.sort(key=lambda x:x[1])\n",
    "print(\"after sorting: \", y)"
   ]
  },
  {
   "cell_type": "markdown",
   "metadata": {},
   "source": [
    "**Qno- Define a function with two arguments a and b. Check if a is equal to 1 then return 'coming from if',check if b is equal to 1 ,then return 'coming from elif' otherwise return 'no condition is satisfied'**"
   ]
  },
  {
   "cell_type": "code",
   "execution_count": 13,
   "metadata": {},
   "outputs": [
    {
     "data": {
      "text/plain": [
       "'coming from if'"
      ]
     },
     "execution_count": 13,
     "metadata": {},
     "output_type": "execute_result"
    }
   ],
   "source": [
    "def func(a,b):\n",
    "    if a==1:\n",
    "        return \"coming from if\"\n",
    "    elif b==1:\n",
    "        return \"coming from elif\"\n",
    "    else:\n",
    "        return \"No condition satisfied\"\n",
    "        \n",
    "func(1,2)"
   ]
  },
  {
   "cell_type": "markdown",
   "metadata": {},
   "source": [
    "**Qno-Take a Dictionary as given in input.Find the average of phy subject from the dict using function \n",
    "Input:- dict={1:{'name':'Ram','Mark':{'phy':56,'chem':78}},2:{'name':'Hari','Mark':{'phy':76,'chem':88}}} \n",
    "Output:- 66.0**"
   ]
  },
  {
   "cell_type": "code",
   "execution_count": 19,
   "metadata": {},
   "outputs": [
    {
     "name": "stdout",
     "output_type": "stream",
     "text": [
      "66.0\n"
     ]
    }
   ],
   "source": [
    "def avg(x):\n",
    "    s=c=0\n",
    "    for i in x.values():\n",
    "        s = s + i[\"Mark\"][\"phy\"]\n",
    "        c = c+1\n",
    "    print(s/c)\n",
    "\n",
    "dict={1:{'name':'Ram','Mark':{'phy':56,'chem':78}},2:{'name':'Hari','Mark':{'phy':76,'chem':88}}}\n",
    "avg(dict)"
   ]
  },
  {
   "cell_type": "code",
   "execution_count": null,
   "metadata": {},
   "outputs": [],
   "source": []
  }
 ],
 "metadata": {
  "kernelspec": {
   "display_name": "Python 3",
   "language": "python",
   "name": "python3"
  },
  "language_info": {
   "codemirror_mode": {
    "name": "ipython",
    "version": 3
   },
   "file_extension": ".py",
   "mimetype": "text/x-python",
   "name": "python",
   "nbconvert_exporter": "python",
   "pygments_lexer": "ipython3",
   "version": "3.8.5"
  }
 },
 "nbformat": 4,
 "nbformat_minor": 4
}
