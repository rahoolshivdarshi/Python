{
 "cells": [
  {
   "cell_type": "code",
   "execution_count": 1,
   "metadata": {},
   "outputs": [],
   "source": [
    "import pandas as pd"
   ]
  },
  {
   "cell_type": "markdown",
   "metadata": {},
   "source": [
    "**Series creation**"
   ]
  },
  {
   "cell_type": "code",
   "execution_count": 91,
   "metadata": {},
   "outputs": [
    {
     "data": {
      "text/plain": [
       "2         Jharkhand\n",
       "1               Goa\n",
       "5           Manipur\n",
       "3         Karnataka\n",
       "4    Madhya Pradesh\n",
       "Name: States, dtype: object"
      ]
     },
     "metadata": {},
     "output_type": "display_data"
    }
   ],
   "source": [
    "ser = pd.Series(['Jharkhand', 'Goa', 'Manipur', 'Karnataka', 'Madhya Pradesh'],\n",
    "               index = [2,1,5,3,4],\n",
    "               name = 'States')\n",
    "display(ser)"
   ]
  },
  {
   "cell_type": "code",
   "execution_count": 85,
   "metadata": {},
   "outputs": [
    {
     "name": "stdout",
     "output_type": "stream",
     "text": [
      "Int64Index([2, 1, 5, 3, 4], dtype='int64')\n",
      "['Jharkhand' 'Goa' 'Manipur' 'Karnataka' 'Madhya Pradesh']\n",
      "{'Goa', 'Manipur', 'Karnataka', 'Jharkhand', 'Madhya Pradesh'}\n"
     ]
    }
   ],
   "source": [
    "print(ser.index)\n",
    "print(ser.values)\n",
    "print(set(ser))    #series object is converted to set"
   ]
  },
  {
   "cell_type": "code",
   "execution_count": 13,
   "metadata": {},
   "outputs": [
    {
     "name": "stdout",
     "output_type": "stream",
     "text": [
      "0                                        Rahool\n",
      "1                                    Shivdarshi\n",
      "2                                            20\n",
      "3    <__main__.Rf object at 0x000002804E74CAC0>\n",
      "Name: Rahool's Info, dtype: object\n",
      "RangeIndex(start=0, stop=4, step=1)\n"
     ]
    }
   ],
   "source": [
    "#Data in the series can be heterogeneous\n",
    "class Rf:\n",
    "    pass\n",
    "s = pd.Series(['Rahool', 'Shivdarshi', 20, Rf()],\n",
    "             name='Rahool\\'s Info')\n",
    "print(s)"
   ]
  },
  {
   "cell_type": "code",
   "execution_count": 14,
   "metadata": {},
   "outputs": [
    {
     "name": "stdout",
     "output_type": "stream",
     "text": [
      "RangeIndex(start=0, stop=4, step=1)\n"
     ]
    }
   ],
   "source": [
    "print(s.index)"
   ]
  },
  {
   "cell_type": "code",
   "execution_count": 61,
   "metadata": {},
   "outputs": [
    {
     "name": "stdout",
     "output_type": "stream",
     "text": [
      "0     1.0\n",
      "1    22.0\n",
      "2    31.0\n",
      "3     NaN\n",
      "4    44.0\n",
      "5    65.0\n",
      "Name: Numbers, dtype: float64\n"
     ]
    }
   ],
   "source": [
    "#only float supports NaN\n",
    "s = pd.Series([1,22,31,None,44,65],\n",
    "             name=\"Numbers\")\n",
    "print(s)"
   ]
  },
  {
   "cell_type": "code",
   "execution_count": 62,
   "metadata": {},
   "outputs": [
    {
     "data": {
      "text/plain": [
       "5"
      ]
     },
     "execution_count": 62,
     "metadata": {},
     "output_type": "execute_result"
    }
   ],
   "source": [
    "s.count() #pandas ingnoring NaN values"
   ]
  },
  {
   "cell_type": "markdown",
   "metadata": {},
   "source": [
    "**Same functions/operations of Series and NumPy Arrays**"
   ]
  },
  {
   "cell_type": "code",
   "execution_count": 72,
   "metadata": {},
   "outputs": [
    {
     "name": "stdout",
     "output_type": "stream",
     "text": [
      "31\n",
      "31\n"
     ]
    }
   ],
   "source": [
    "import numpy as np\n",
    "\n",
    "s = pd.Series([1,22,31,44,65],\n",
    "             name=\"Numbers\")\n",
    "\n",
    "t = np.array([1,22,31,44,65])\n",
    "print(t[2])\n",
    "print(s[2])"
   ]
  },
  {
   "cell_type": "code",
   "execution_count": 73,
   "metadata": {},
   "outputs": [
    {
     "name": "stdout",
     "output_type": "stream",
     "text": [
      "Series object:  32.6\n",
      "NumPy Array:  32.6\n"
     ]
    }
   ],
   "source": [
    "print(\"Series object: \",s.mean())\n",
    "print(\"NumPy Array: \",t.mean())"
   ]
  },
  {
   "cell_type": "code",
   "execution_count": 74,
   "metadata": {},
   "outputs": [
    {
     "name": "stdout",
     "output_type": "stream",
     "text": [
      "Series object:  31.0\n",
      "NumPy Array:  31.0\n"
     ]
    }
   ],
   "source": [
    "print(\"Series object: \",s.median())\n",
    "print(\"NumPy Array: \",np.median(t))"
   ]
  },
  {
   "cell_type": "code",
   "execution_count": 75,
   "metadata": {},
   "outputs": [
    {
     "name": "stdout",
     "output_type": "stream",
     "text": [
      "0    False\n",
      "1    False\n",
      "2    False\n",
      "3     True\n",
      "4     True\n",
      "Name: Numbers, dtype: bool\n",
      "[False False False  True  True]\n"
     ]
    }
   ],
   "source": [
    "#Both NumPy array and Series Object have a notion of a boolean array\n",
    "l1 = s > s.median()\n",
    "l2 = t > np.median(t)\n",
    "print(l1)\n",
    "print(l2)"
   ]
  },
  {
   "cell_type": "code",
   "execution_count": 76,
   "metadata": {},
   "outputs": [
    {
     "name": "stdout",
     "output_type": "stream",
     "text": [
      "[44 65]\n",
      "3    44\n",
      "4    65\n",
      "Name: Numbers, dtype: int64\n"
     ]
    }
   ],
   "source": [
    "print(t[l1])\n",
    "print(s[l2])"
   ]
  },
  {
   "cell_type": "markdown",
   "metadata": {},
   "source": [
    "**Reading values of Series Object**"
   ]
  },
  {
   "cell_type": "code",
   "execution_count": 77,
   "metadata": {},
   "outputs": [
    {
     "data": {
      "text/plain": [
       "7"
      ]
     },
     "execution_count": 77,
     "metadata": {},
     "output_type": "execute_result"
    }
   ],
   "source": [
    "s = pd.Series([2,5,7,4,9],\n",
    "             index=['Aditya', 'Rahool', 'Sarthak', 'Rahool', 'Vivek'],\n",
    "             name='Score')\n",
    "s['Sarthak']"
   ]
  },
  {
   "cell_type": "code",
   "execution_count": 78,
   "metadata": {},
   "outputs": [
    {
     "data": {
      "text/plain": [
       "Rahool    5\n",
       "Rahool    4\n",
       "Name: Score, dtype: int64"
      ]
     },
     "execution_count": 78,
     "metadata": {},
     "output_type": "execute_result"
    }
   ],
   "source": [
    "s['Rahool']  #if index entries repeat, output will be another series object"
   ]
  },
  {
   "cell_type": "code",
   "execution_count": 79,
   "metadata": {},
   "outputs": [
    {
     "name": "stdout",
     "output_type": "stream",
     "text": [
      "2\n",
      "5\n",
      "7\n",
      "4\n",
      "9\n"
     ]
    }
   ],
   "source": [
    "for i in s:    #iteration is over the value of the series\n",
    "    print(i)"
   ]
  },
  {
   "cell_type": "code",
   "execution_count": 80,
   "metadata": {},
   "outputs": [
    {
     "name": "stdout",
     "output_type": "stream",
     "text": [
      "True\n",
      "True\n",
      "False\n"
     ]
    }
   ],
   "source": [
    "print('Aditya' in s) #membership operator is over the indexes of the series\n",
    "\n",
    "print(9 in set(s))\n",
    "\n",
    "print(3 in s.values)"
   ]
  },
  {
   "cell_type": "code",
   "execution_count": 81,
   "metadata": {},
   "outputs": [
    {
     "name": "stdout",
     "output_type": "stream",
     "text": [
      "('Aditya', 2)\n",
      "('Rahool', 5)\n",
      "('Sarthak', 7)\n",
      "('Rahool', 4)\n",
      "('Vivek', 9)\n"
     ]
    }
   ],
   "source": [
    "for i in s.iteritems():\n",
    "    print(i)"
   ]
  }
 ],
 "metadata": {
  "kernelspec": {
   "display_name": "Python 3",
   "language": "python",
   "name": "python3"
  },
  "language_info": {
   "codemirror_mode": {
    "name": "ipython",
    "version": 3
   },
   "file_extension": ".py",
   "mimetype": "text/x-python",
   "name": "python",
   "nbconvert_exporter": "python",
   "pygments_lexer": "ipython3",
   "version": "3.8.5"
  }
 },
 "nbformat": 4,
 "nbformat_minor": 4
}
