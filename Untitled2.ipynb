{
 "cells": [
  {
   "cell_type": "markdown",
   "metadata": {},
   "source": [
    "Python Program to Convert Kilometers to Miles"
   ]
  },
  {
   "cell_type": "code",
   "execution_count": 4,
   "metadata": {},
   "outputs": [
    {
     "name": "stdout",
     "output_type": "stream",
     "text": [
      "Enter distance in Kilometers: 29\n",
      "Distance in miles: 18.02 miles\n"
     ]
    }
   ],
   "source": [
    "n = float(input(\"Enter distance in Kilometers: \"))\n",
    "print(\"Distance in miles: {0:.2f} miles\".format(n*0.621371))"
   ]
  },
  {
   "cell_type": "markdown",
   "metadata": {},
   "source": [
    "Python Program to Convert Celsius To Fahrenheit"
   ]
  },
  {
   "cell_type": "code",
   "execution_count": 5,
   "metadata": {},
   "outputs": [
    {
     "name": "stdout",
     "output_type": "stream",
     "text": [
      "Enter temperature in Celcius: 3\n",
      "Temperature in Fahrenheit: 37.40 F\n"
     ]
    }
   ],
   "source": [
    "c = float(input(\"Enter temperature in Celcius: \"))\n",
    "print(\"Temperature in Fahrenheit: {0:.2f} F\".format((9*c)/5 + 32))"
   ]
  },
  {
   "cell_type": "markdown",
   "metadata": {},
   "source": [
    "Python Program to Check if a Number is Positive, Negative or 0"
   ]
  },
  {
   "cell_type": "code",
   "execution_count": 6,
   "metadata": {},
   "outputs": [
    {
     "name": "stdout",
     "output_type": "stream",
     "text": [
      "Enter a number: 0\n",
      "Zero\n"
     ]
    }
   ],
   "source": [
    "n = float(input(\"Enter a number: \"))\n",
    "print(\"Positive\") if n>0 else print(\"Negative\") if n<0 else print(\"Zero\")"
   ]
  },
  {
   "cell_type": "markdown",
   "metadata": {},
   "source": [
    "Python Program to Check if a Number is Odd or Even"
   ]
  },
  {
   "cell_type": "code",
   "execution_count": 7,
   "metadata": {},
   "outputs": [
    {
     "name": "stdout",
     "output_type": "stream",
     "text": [
      "Enter a number: 2013\n",
      "Odd\n"
     ]
    }
   ],
   "source": [
    "n = int(input(\"Enter a number: \"))\n",
    "print(\"Even\") if (n%2==0) else print(\"Odd\")"
   ]
  },
  {
   "cell_type": "markdown",
   "metadata": {},
   "source": [
    "Python Program to Check Leap Year"
   ]
  },
  {
   "cell_type": "code",
   "execution_count": 8,
   "metadata": {},
   "outputs": [
    {
     "name": "stdout",
     "output_type": "stream",
     "text": [
      "Enter year: 2019\n",
      "Not a leap year\n"
     ]
    }
   ],
   "source": [
    "n = int(input(\"Enter year: \"))\n",
    "print(\"Leap Year\") if n%4==0 else print(\"Not a leap year\")"
   ]
  },
  {
   "cell_type": "markdown",
   "metadata": {},
   "source": [
    "Python Program to Find the Largest Among Three Numbers"
   ]
  },
  {
   "cell_type": "code",
   "execution_count": 9,
   "metadata": {},
   "outputs": [
    {
     "name": "stdout",
     "output_type": "stream",
     "text": [
      "Enter 3 nos\n",
      "3\n",
      "7\n",
      "4\n",
      "7\n"
     ]
    }
   ],
   "source": [
    "print(\"Enter 3 nos\")\n",
    "a = int(input())\n",
    "b = int(input())\n",
    "c = int(input())\n",
    "print(a) if (a>=b and a>=c) else print(b) if (b>=a and b>=c) else print(c)  "
   ]
  },
  {
   "cell_type": "markdown",
   "metadata": {},
   "source": [
    "Write a Python Program to check if a number is prime or not"
   ]
  },
  {
   "cell_type": "code",
   "execution_count": 10,
   "metadata": {},
   "outputs": [
    {
     "name": "stdout",
     "output_type": "stream",
     "text": [
      "Enter number: 4\n",
      "Not prime\n"
     ]
    }
   ],
   "source": [
    "n = int(input(\"Enter number: \"))\n",
    "c = 0\n",
    "for i in range(2,n-1):\n",
    "    if(n%i==0):\n",
    "        c+=1\n",
    "        break;\n",
    "print(\"Not prime\") if c!=0 else print(\"Prime\")"
   ]
  },
  {
   "cell_type": "markdown",
   "metadata": {},
   "source": [
    "Python program to display all the prime numbers within an interval"
   ]
  },
  {
   "cell_type": "code",
   "execution_count": 11,
   "metadata": {},
   "outputs": [
    {
     "name": "stdout",
     "output_type": "stream",
     "text": [
      "Enter range: \n",
      "2\n",
      "100\n",
      "2\n",
      "3\n",
      "5\n",
      "7\n",
      "11\n",
      "13\n",
      "17\n",
      "19\n",
      "23\n",
      "29\n",
      "31\n",
      "37\n",
      "41\n",
      "43\n",
      "47\n",
      "53\n",
      "59\n",
      "61\n",
      "67\n",
      "71\n",
      "73\n",
      "79\n",
      "83\n",
      "89\n",
      "97\n"
     ]
    }
   ],
   "source": [
    "print(\"Enter range: \")\n",
    "a = int(input())\n",
    "b = int(input())\n",
    "for j in range(a,b+1):\n",
    "    c = 0\n",
    "    for i in range(2,j-1):\n",
    "        if(j%i==0):\n",
    "            c+=1\n",
    "            break;\n",
    "    if c==0:\n",
    "        print(j) "
   ]
  },
  {
   "cell_type": "markdown",
   "metadata": {},
   "source": [
    "Python program to find the factorial of a number."
   ]
  },
  {
   "cell_type": "code",
   "execution_count": 12,
   "metadata": {},
   "outputs": [
    {
     "name": "stdout",
     "output_type": "stream",
     "text": [
      "Enter a number: 5\n",
      "Factorial:  120\n"
     ]
    }
   ],
   "source": [
    "f=1\n",
    "n = int(input(\"Enter a number: \"))\n",
    "for i in range(1,n+1):\n",
    "    f*=i\n",
    "print(\"Factorial: \",f)"
   ]
  },
  {
   "cell_type": "markdown",
   "metadata": {},
   "source": [
    "Python Program to Display the multiplication Table"
   ]
  },
  {
   "cell_type": "code",
   "execution_count": 15,
   "metadata": {},
   "outputs": [
    {
     "name": "stdout",
     "output_type": "stream",
     "text": [
      "Enter number: 4\n",
      "4 * 1 = 4\n",
      "4 * 2 = 8\n",
      "4 * 3 = 12\n",
      "4 * 4 = 16\n",
      "4 * 5 = 20\n",
      "4 * 6 = 24\n",
      "4 * 7 = 28\n",
      "4 * 8 = 32\n",
      "4 * 9 = 36\n",
      "4 * 10 = 40\n"
     ]
    }
   ],
   "source": [
    "n = int(input(\"Enter number: \"))\n",
    "for i in range(1,11):\n",
    "    print(\"{} * {} = {}\".format(n,i,n*i))"
   ]
  },
  {
   "cell_type": "markdown",
   "metadata": {},
   "source": [
    "Python Program to Print the Fibonacci sequence"
   ]
  },
  {
   "cell_type": "code",
   "execution_count": 18,
   "metadata": {},
   "outputs": [
    {
     "name": "stdout",
     "output_type": "stream",
     "text": [
      "NO of terms:10\n",
      "0 1 1 2 3 5 8 13 21 34 "
     ]
    }
   ],
   "source": [
    "n = int(input(\"NO of terms:\"))\n",
    "a = 0\n",
    "b = 1\n",
    "i = 2\n",
    "print(a,b, end=\" \")\n",
    "while i<n:\n",
    "    c = a+b\n",
    "    print(c, end=\" \")\n",
    "    a = b\n",
    "    b = c\n",
    "    i+=1"
   ]
  },
  {
   "cell_type": "markdown",
   "metadata": {},
   "source": [
    "**Python Program to Check Armstrong Number (for 3 digits)**"
   ]
  },
  {
   "cell_type": "code",
   "execution_count": 27,
   "metadata": {},
   "outputs": [
    {
     "name": "stdout",
     "output_type": "stream",
     "text": [
      "Enter a number: 121\n",
      "10\n",
      "Not armstrong\n"
     ]
    }
   ],
   "source": [
    "n = int(input(\"Enter a number: \"))\n",
    "m = n\n",
    "s = 0\n",
    "while n>0:\n",
    "    r = n%10\n",
    "    s = s+r**3\n",
    "    n = n//10\n",
    "print(\"Armstrong\") if m==s else print(\"Not armstrong\")"
   ]
  },
  {
   "cell_type": "markdown",
   "metadata": {},
   "source": [
    "**Find the sum of the cube of each digit**"
   ]
  },
  {
   "cell_type": "code",
   "execution_count": 31,
   "metadata": {},
   "outputs": [
    {
     "name": "stdout",
     "output_type": "stream",
     "text": [
      "Enter a number: 370\n",
      "Sum of the cube of each digit: 370\n"
     ]
    }
   ],
   "source": [
    "n = int(input(\"Enter a number: \"))\n",
    "m = n\n",
    "s = 0\n",
    "while n>0:\n",
    "    r = n%10\n",
    "    s = s+r**3\n",
    "    n = n//10\n",
    "print(\"Sum of the cube of each digit:\",s)"
   ]
  },
  {
   "cell_type": "markdown",
   "metadata": {},
   "source": [
    "**Python Program to Find Armstrong Number in an Interval**"
   ]
  },
  {
   "cell_type": "code",
   "execution_count": 30,
   "metadata": {},
   "outputs": [
    {
     "name": "stdout",
     "output_type": "stream",
     "text": [
      "Enter range: \n",
      "100\n",
      "400\n",
      "153\n",
      "370\n",
      "371\n"
     ]
    }
   ],
   "source": [
    "print(\"Enter range: \")\n",
    "a = int(input())\n",
    "b = int(input())\n",
    "for j in range(a,b+1):\n",
    "    m = j\n",
    "    s = 0\n",
    "    while m>0:\n",
    "        r = m%10\n",
    "        s = s+r**3\n",
    "        m = m//10\n",
    "    if s==j:\n",
    "        print(j)"
   ]
  },
  {
   "cell_type": "markdown",
   "metadata": {},
   "source": [
    "**Python Program to Find the Sum of Natural Numbers**"
   ]
  },
  {
   "cell_type": "code",
   "execution_count": 34,
   "metadata": {},
   "outputs": [
    {
     "name": "stdout",
     "output_type": "stream",
     "text": [
      "Enter no: 3\n",
      "6\n"
     ]
    }
   ],
   "source": [
    "s = 0\n",
    "n = int(input(\"Enter no: \"))\n",
    "for i in range(1,n+1):\n",
    "    s = s+i\n",
    "print(s)"
   ]
  },
  {
   "cell_type": "markdown",
   "metadata": {},
   "source": [
    "**Python Program To Display Powers of 2 Using Anonymous Function**"
   ]
  },
  {
   "cell_type": "code",
   "execution_count": 36,
   "metadata": {},
   "outputs": [
    {
     "name": "stdout",
     "output_type": "stream",
     "text": [
      "2\n",
      "4\n",
      "8\n",
      "16\n",
      "32\n",
      "64\n",
      "128\n",
      "256\n",
      "512\n",
      "1024\n"
     ]
    }
   ],
   "source": [
    "pow = lambda x : 2**x\n",
    "for i in range(1,11):\n",
    "    print(pow(i))"
   ]
  },
  {
   "cell_type": "markdown",
   "metadata": {},
   "source": [
    "**Python Program to Find Numbers Divisible by Another Number**"
   ]
  },
  {
   "cell_type": "code",
   "execution_count": 39,
   "metadata": {},
   "outputs": [
    {
     "name": "stdout",
     "output_type": "stream",
     "text": [
      "Enter no: 25\n",
      "25\n",
      "50\n",
      "75\n",
      "100\n"
     ]
    }
   ],
   "source": [
    "n = int(input(\"Enter no: \"))\n",
    "for i in range(1,101):\n",
    "    if i%n==0: print(i)  "
   ]
  },
  {
   "cell_type": "markdown",
   "metadata": {},
   "source": [
    "**Python Program to Make a Simple Calculator**"
   ]
  },
  {
   "cell_type": "code",
   "execution_count": 40,
   "metadata": {},
   "outputs": [
    {
     "name": "stdout",
     "output_type": "stream",
     "text": [
      "Enter 2 nos\n",
      "3\n",
      "6\n",
      "Enter operation\n",
      "/\n",
      "0.5\n"
     ]
    }
   ],
   "source": [
    "print(\"Enter 2 nos\")\n",
    "a = int(input())\n",
    "b = int(input())\n",
    "print(\"Enter operation\")\n",
    "c = input()\n",
    "if c=='+': print(a+b)\n",
    "if c=='-': print(a-b)\n",
    "if c=='*': print(a*b)\n",
    "if c=='/': print(a/b)"
   ]
  },
  {
   "cell_type": "markdown",
   "metadata": {},
   "source": [
    "**Python Program to Display Fibonacci Sequence Using Recursion**"
   ]
  },
  {
   "cell_type": "code",
   "execution_count": 50,
   "metadata": {},
   "outputs": [
    {
     "name": "stdout",
     "output_type": "stream",
     "text": [
      "No of terms:9\n",
      "0 1 1 2 3 5 8 13 21 "
     ]
    }
   ],
   "source": [
    "def fib(n):\n",
    "    if n<=1:\n",
    "        return n;\n",
    "    return(fib(n-1) + fib(n-2))\n",
    "\n",
    "n = int(input(\"No of terms:\"))\n",
    "for i in range(n):\n",
    "       print(fib(i), end=' ')"
   ]
  },
  {
   "cell_type": "markdown",
   "metadata": {},
   "source": [
    "**Python Program to Find Sum of Natural Numbers Using Recursion**"
   ]
  },
  {
   "cell_type": "code",
   "execution_count": 51,
   "metadata": {},
   "outputs": [
    {
     "name": "stdout",
     "output_type": "stream",
     "text": [
      "Enter no: 4\n",
      "Sum:  10\n"
     ]
    }
   ],
   "source": [
    "def sn(n):\n",
    "    if n==1:\n",
    "        return n\n",
    "    return n+sn(n-1)\n",
    "\n",
    "n = int(input(\"Enter no: \"))\n",
    "print(\"Sum: \",sn(n))"
   ]
  },
  {
   "cell_type": "markdown",
   "metadata": {},
   "source": [
    "**Python Program to Find Factorial of Number Using Recursion**"
   ]
  },
  {
   "cell_type": "code",
   "execution_count": 53,
   "metadata": {},
   "outputs": [
    {
     "name": "stdout",
     "output_type": "stream",
     "text": [
      "Enter no: 0\n",
      "Factorial:  1\n"
     ]
    }
   ],
   "source": [
    "def fact(n):\n",
    "    if n==0:\n",
    "        return 1\n",
    "    if n==1:\n",
    "        return n\n",
    "    return n*fact(n-1)\n",
    "\n",
    "n = int(input(\"Enter no: \"))\n",
    "print(\"Factorial: \",fact(n))"
   ]
  },
  {
   "cell_type": "markdown",
   "metadata": {},
   "source": [
    "**Python Program to Add Two Matrices**"
   ]
  },
  {
   "cell_type": "code",
   "execution_count": 60,
   "metadata": {},
   "outputs": [
    {
     "name": "stdout",
     "output_type": "stream",
     "text": [
      "Enter no of rows: 2\n",
      "Enter no of columns: 2\n",
      "Enter 1st matrix: \n",
      "1\n",
      "2\n",
      "3\n",
      "4\n",
      "Enter 2nd matrix: \n",
      "1\n",
      "2\n",
      "3\n",
      "4\n",
      "[[2, 4], [6, 8]]\n"
     ]
    }
   ],
   "source": [
    "r = int(input(\"Enter no of rows: \"))\n",
    "c = int(input(\"Enter no of columns: \"))\n",
    "print(\"Enter 1st matrix: \")\n",
    "m1 = []\n",
    "for i in range(r):\n",
    "    a=[]\n",
    "    for j in range(c):\n",
    "        a.append(int(input()))\n",
    "    m1.append(a)\n",
    "    \n",
    "print(\"Enter 2nd matrix: \")\n",
    "m2 = []\n",
    "for i in range(r):\n",
    "    a=[]\n",
    "    for j in range(c):\n",
    "        a.append(int(input()))\n",
    "    m2.append(a)\n",
    "    \n",
    "res = []\n",
    "for i in range(r):\n",
    "    a=[]\n",
    "    for j in range(c):\n",
    "        a.append(m1[i][j] + m2[i][j])\n",
    "    res.append(a)\n",
    "    \n",
    "print(res)"
   ]
  },
  {
   "cell_type": "markdown",
   "metadata": {},
   "source": [
    "**Python Program to Add Two Matrices using Nested List Comprehension**"
   ]
  },
  {
   "cell_type": "code",
   "execution_count": null,
   "metadata": {},
   "outputs": [],
   "source": []
  }
 ],
 "metadata": {
  "kernelspec": {
   "display_name": "Python 3",
   "language": "python",
   "name": "python3"
  },
  "language_info": {
   "codemirror_mode": {
    "name": "ipython",
    "version": 3
   },
   "file_extension": ".py",
   "mimetype": "text/x-python",
   "name": "python",
   "nbconvert_exporter": "python",
   "pygments_lexer": "ipython3",
   "version": "3.8.5"
  }
 },
 "nbformat": 4,
 "nbformat_minor": 4
}
